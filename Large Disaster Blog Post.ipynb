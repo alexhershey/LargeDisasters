{
 "cells": [
  {
   "cell_type": "markdown",
   "id": "ffeb2405",
   "metadata": {},
   "source": [
    "# Forecasting Large Disasters Using Open Source FEMA and Census Data\n",
    "\n",
    "\n",
    "Increasingly, in the news, we hear that hurricanes are getting more powerful. We watch and we listen to the stories of people impacted by the storms that wash ashore. The question is, can we use publicly available data to help anticipate the size and impact of a storm—in other words, how many people will register for  Federal Emergency Management Agency (FEMA)  assistance. With the advent of publicly available data from both Census and FEMA, we are now in an age where it might be possible to investigate data. \n",
    "\n",
    "Regarding the process, three methods were used for evaluation. First the individual elements were compared using the Spearman correlation. Next the stats-model api was used to evaluate the Census elements for a low p-value and then used the Lasso Regression to reduce the number of elements to those that had a coefficient greater than zero. After that process was completed, only the Census elements which identifies someone in the household that is 60 years or older, was identified as a good predictor variable.\n",
    "\n",
    "Regarding the second question, the ratio of registrations to households and then converted to a quintile, seems to return the best results. The current application is that running future models could allow.a human to assign the variables to the counties, which are then converted for consumption by the model. The visualizations communicate that all but the lowest quintile are very highly correlated with this feature. \n",
    "\n",
    "Lastly, Census variables related to the geographic characteristics of the counties were evaluated. While the area square miles appeared to be correlated because it increased the R^2 value with the target variable, however, we also see a p-value above the 0.05 threshold. Therefore, we eliminated the feature from the independent variables. \n"
   ]
  }
 ],
 "metadata": {
  "kernelspec": {
   "display_name": "Python 3 (ipykernel)",
   "language": "python",
   "name": "python3"
  },
  "language_info": {
   "codemirror_mode": {
    "name": "ipython",
    "version": 3
   },
   "file_extension": ".py",
   "mimetype": "text/x-python",
   "name": "python",
   "nbconvert_exporter": "python",
   "pygments_lexer": "ipython3",
   "version": "3.9.12"
  }
 },
 "nbformat": 4,
 "nbformat_minor": 5
}
